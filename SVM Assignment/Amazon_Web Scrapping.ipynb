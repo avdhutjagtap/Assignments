{
 "cells": [
  {
   "cell_type": "code",
   "execution_count": 1,
   "id": "afa3037d",
   "metadata": {},
   "outputs": [
    {
     "ename": "ModuleNotFoundError",
     "evalue": "No module named 'wordcloud'",
     "output_type": "error",
     "traceback": [
      "\u001b[1;31m---------------------------------------------------------------------------\u001b[0m",
      "\u001b[1;31mModuleNotFoundError\u001b[0m                       Traceback (most recent call last)",
      "Input \u001b[1;32mIn [1]\u001b[0m, in \u001b[0;36m<cell line: 6>\u001b[1;34m()\u001b[0m\n\u001b[0;32m      4\u001b[0m \u001b[38;5;28;01mimport\u001b[39;00m \u001b[38;5;21;01mre\u001b[39;00m\n\u001b[0;32m      5\u001b[0m \u001b[38;5;28;01mimport\u001b[39;00m \u001b[38;5;21;01mmatplotlib\u001b[39;00m\u001b[38;5;21;01m.\u001b[39;00m\u001b[38;5;21;01mpyplot\u001b[39;00m \u001b[38;5;28;01mas\u001b[39;00m \u001b[38;5;21;01mplt\u001b[39;00m\n\u001b[1;32m----> 6\u001b[0m \u001b[38;5;28;01mfrom\u001b[39;00m \u001b[38;5;21;01mwordcloud\u001b[39;00m \u001b[38;5;28;01mimport\u001b[39;00m WordCloud\n\u001b[0;32m      7\u001b[0m \u001b[38;5;28;01mimport\u001b[39;00m \u001b[38;5;21;01mwarnings\u001b[39;00m\n\u001b[0;32m      8\u001b[0m warnings\u001b[38;5;241m.\u001b[39mfilterwarnings(\u001b[38;5;124m\"\u001b[39m\u001b[38;5;124mignore\u001b[39m\u001b[38;5;124m\"\u001b[39m)\n",
      "\u001b[1;31mModuleNotFoundError\u001b[0m: No module named 'wordcloud'"
     ]
    }
   ],
   "source": [
    "# import necesary packages\n",
    "import requests \n",
    "from bs4 import BeautifulSoup as bs\n",
    "import re\n",
    "import matplotlib.pyplot as plt\n",
    "from wordcloud import WordCloud\n",
    "import warnings\n",
    "warnings.filterwarnings(\"ignore\")"
   ]
  },
  {
   "cell_type": "code",
   "execution_count": null,
   "id": "5f987a4a",
   "metadata": {},
   "outputs": [],
   "source": [
    "# creating a empty list\n",
    "redmi_reviews = []"
   ]
  },
  {
   "cell_type": "code",
   "execution_count": null,
   "id": "02d3a62c",
   "metadata": {},
   "outputs": [],
   "source": [
    "# getting revives from amzon for rednmi pro\n",
    "for i in range (1,21):\n",
    "    ip=[]\n",
    "    url =\"https://www.amazon.in/Redmi-Pro-Blue-64GB-Storage/product-reviews/B07DJHR5DY/ref=cm_cr_arp_d_paging_btm_next_2?ie=UTF8&reviewerType=all_reviews&pageNumber=\"+str(i)\n",
    "    response = requests.get(url)\n",
    "    soup = bs(response.content,\"html.parser\")\n",
    "    reviews = soup.findAll(\"span\",attrs = {\"class\",\"a-size-base review-text review-text-content\"})\n",
    "    for i in range(len(reviews)):\n",
    "        ip.append(reviews[i].text)\n",
    "    redmi_reviews = redmi_reviews+ip"
   ]
  },
  {
   "cell_type": "code",
   "execution_count": null,
   "id": "415dd8bd",
   "metadata": {},
   "outputs": [],
   "source": [
    "# creatind and writing in file called redmi\n",
    "with open(\"redmi.txt\",\"w\",encoding = 'utf-8') as output:\n",
    "    output.write(str(redmi_reviews))"
   ]
  },
  {
   "cell_type": "code",
   "execution_count": null,
   "id": "157b1d8c",
   "metadata": {},
   "outputs": [],
   "source": [
    "# cheking file location\n",
    "import os\n",
    "os.getcwd()"
   ]
  },
  {
   "cell_type": "code",
   "execution_count": null,
   "id": "8b03867e",
   "metadata": {},
   "outputs": [],
   "source": [
    "red_rev_string = \" \".join(redmi_reviews)"
   ]
  },
  {
   "cell_type": "code",
   "execution_count": null,
   "id": "9a35ce14",
   "metadata": {},
   "outputs": [],
   "source": [
    "# data cleaning usng regular expression\n",
    "red_rev_string = re.sub(\"[^A-Za-z\" \"]+\",\" \",red_rev_string).lower()\n",
    "red_rev_string =re.sub(\"[0-9\" \"]+\",\" \",red_rev_string)"
   ]
  },
  {
   "cell_type": "code",
   "execution_count": null,
   "id": "80bdaf24",
   "metadata": {},
   "outputs": [],
   "source": [
    "red_rev_words = red_rev_string.split(\" \")"
   ]
  },
  {
   "cell_type": "code",
   "execution_count": null,
   "id": "edbc5bd0",
   "metadata": {},
   "outputs": [],
   "source": [
    "# removing stopwords\n",
    "import nltk\n",
    "nltk.download('stopwords')\n",
    "from nltk.corpus import stopwords\n",
    "stop_words = stopwords.words('english')"
   ]
  },
  {
   "cell_type": "code",
   "execution_count": null,
   "id": "98db6ebe",
   "metadata": {},
   "outputs": [],
   "source": [
    "red_rev_words = [w for w in red_rev_words if not w in stop_words]"
   ]
  },
  {
   "cell_type": "code",
   "execution_count": null,
   "id": "84901289",
   "metadata": {},
   "outputs": [],
   "source": [
    "wordcloud_ip = WordCloud(\n",
    "                      background_color='black',\n",
    "                      width=1800,\n",
    "                      height=1600\n",
    "                     ).generate(red_rev_string)"
   ]
  },
  {
   "cell_type": "code",
   "execution_count": null,
   "id": "82b4355c",
   "metadata": {},
   "outputs": [],
   "source": [
    "plt.imshow(wordcloud_ip)"
   ]
  },
  {
   "cell_type": "code",
   "execution_count": null,
   "id": "31f18cd5",
   "metadata": {},
   "outputs": [],
   "source": [
    "with open(\"negative-words.txt\") as neg:\n",
    "  negwords = neg.read().split(\"\\n\")"
   ]
  },
  {
   "cell_type": "code",
   "execution_count": null,
   "id": "4d43b249",
   "metadata": {},
   "outputs": [],
   "source": [
    "negwords =negwords[37:]"
   ]
  },
  {
   "cell_type": "code",
   "execution_count": null,
   "id": "7c20bf5a",
   "metadata": {},
   "outputs": [],
   "source": [
    "red_pos = \" \".join([w for w in red_rev_words if w in negwords])"
   ]
  },
  {
   "cell_type": "code",
   "execution_count": null,
   "id": "0480995a",
   "metadata": {},
   "outputs": [],
   "source": [
    "wordcloud_pos = WordCloud(\n",
    "                      background_color='black',\n",
    "                      width=1800,\n",
    "                      height=1400\n",
    "                     ).generate(red_pos)\n",
    "\n",
    "plt.imshow(wordcloud_pos)"
   ]
  },
  {
   "cell_type": "code",
   "execution_count": null,
   "id": "d0d7b06a",
   "metadata": {},
   "outputs": [],
   "source": [
    "red_unique = list(set(\" \".join(redmi_reviews).split(\" \")))"
   ]
  },
  {
   "cell_type": "code",
   "execution_count": null,
   "id": "86f7feca",
   "metadata": {},
   "outputs": [],
   "source": [
    "red_unique"
   ]
  },
  {
   "cell_type": "code",
   "execution_count": null,
   "id": "158bd6c1",
   "metadata": {},
   "outputs": [],
   "source": []
  }
 ],
 "metadata": {
  "kernelspec": {
   "display_name": "Python 3 (ipykernel)",
   "language": "python",
   "name": "python3"
  },
  "language_info": {
   "codemirror_mode": {
    "name": "ipython",
    "version": 3
   },
   "file_extension": ".py",
   "mimetype": "text/x-python",
   "name": "python",
   "nbconvert_exporter": "python",
   "pygments_lexer": "ipython3",
   "version": "3.9.12"
  }
 },
 "nbformat": 4,
 "nbformat_minor": 5
}
