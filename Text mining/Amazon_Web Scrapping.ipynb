{
 "cells": [
  {
   "cell_type": "code",
   "execution_count": 4,
   "id": "05acb727",
   "metadata": {},
   "outputs": [
    {
     "name": "stdout",
     "output_type": "stream",
     "text": [
      "Collecting wordcloud\n",
      "  Downloading wordcloud-1.8.2.2-cp39-cp39-win_amd64.whl (153 kB)\n",
      "Requirement already satisfied: numpy>=1.6.1 in c:\\users\\vishal pawar\\anaconda3\\lib\\site-packages (from wordcloud) (1.21.5)\n",
      "Requirement already satisfied: matplotlib in c:\\users\\vishal pawar\\anaconda3\\lib\\site-packages (from wordcloud) (3.5.1)\n",
      "Requirement already satisfied: pillow in c:\\users\\vishal pawar\\anaconda3\\lib\\site-packages (from wordcloud) (9.0.1)\n",
      "Requirement already satisfied: kiwisolver>=1.0.1 in c:\\users\\vishal pawar\\anaconda3\\lib\\site-packages (from matplotlib->wordcloud) (1.3.2)\n",
      "Requirement already satisfied: cycler>=0.10 in c:\\users\\vishal pawar\\anaconda3\\lib\\site-packages (from matplotlib->wordcloud) (0.11.0)\n",
      "Requirement already satisfied: fonttools>=4.22.0 in c:\\users\\vishal pawar\\anaconda3\\lib\\site-packages (from matplotlib->wordcloud) (4.25.0)\n",
      "Requirement already satisfied: packaging>=20.0 in c:\\users\\vishal pawar\\anaconda3\\lib\\site-packages (from matplotlib->wordcloud) (21.3)\n",
      "Requirement already satisfied: python-dateutil>=2.7 in c:\\users\\vishal pawar\\anaconda3\\lib\\site-packages (from matplotlib->wordcloud) (2.8.2)\n",
      "Requirement already satisfied: pyparsing>=2.2.1 in c:\\users\\vishal pawar\\anaconda3\\lib\\site-packages (from matplotlib->wordcloud) (3.0.4)\n",
      "Requirement already satisfied: six>=1.5 in c:\\users\\vishal pawar\\anaconda3\\lib\\site-packages (from python-dateutil>=2.7->matplotlib->wordcloud) (1.16.0)\n",
      "Installing collected packages: wordcloud\n",
      "Successfully installed wordcloud-1.8.2.2\n"
     ]
    }
   ],
   "source": [
    "!pip install wordcloud\n"
   ]
  },
  {
   "cell_type": "code",
   "execution_count": 5,
   "id": "ff0f98d5",
   "metadata": {},
   "outputs": [],
   "source": [
    "# import necesary packages\n",
    "import requests \n",
    "from bs4 import BeautifulSoup as bs\n",
    "import re\n",
    "import matplotlib.pyplot as plt\n",
    "from wordcloud import WordCloud\n",
    "import warnings\n",
    "warnings.filterwarnings(\"ignore\")"
   ]
  },
  {
   "cell_type": "code",
   "execution_count": 6,
   "id": "a857853b",
   "metadata": {},
   "outputs": [],
   "source": [
    "# creating a empty list\n",
    "redmi_reviews = []\n"
   ]
  },
  {
   "cell_type": "code",
   "execution_count": 7,
   "id": "4a158fad",
   "metadata": {},
   "outputs": [],
   "source": [
    "# getting revives from amzon for rednmi pro\n",
    "for i in range (1,21):\n",
    "    ip=[]\n",
    "    url =\"https://www.amazon.in/Redmi-Pro-Blue-64GB-Storage/product-reviews/B07DJHR5DY/ref=cm_cr_arp_d_paging_btm_next_2?ie=UTF8&reviewerType=all_reviews&pageNumber=\"+str(i)\n",
    "    response = requests.get(url)\n",
    "    soup = bs(response.content,\"html.parser\")\n",
    "    reviews = soup.findAll(\"span\",attrs = {\"class\",\"a-size-base review-text review-text-content\"})\n",
    "    for i in range(len(reviews)):\n",
    "        ip.append(reviews[i].text)\n",
    "    redmi_reviews = redmi_reviews+ip"
   ]
  },
  {
   "cell_type": "code",
   "execution_count": 8,
   "id": "902b07c6",
   "metadata": {},
   "outputs": [],
   "source": [
    "# creatind and writing in file called redmi\n",
    "with open(\"redmi.txt\",\"w\",encoding = 'utf-8') as output:\n",
    "    output.write(str(redmi_reviews))"
   ]
  },
  {
   "cell_type": "code",
   "execution_count": 9,
   "id": "e65bb90a",
   "metadata": {},
   "outputs": [
    {
     "data": {
      "text/plain": [
       "'C:\\\\Users\\\\Vishal Pawar\\\\Documents\\\\Practice_Assignments-main\\\\Practice_Assignments-main\\\\Text mining'"
      ]
     },
     "execution_count": 9,
     "metadata": {},
     "output_type": "execute_result"
    }
   ],
   "source": [
    "# cheking file location\n",
    "import os\n",
    "os.getcwd()"
   ]
  },
  {
   "cell_type": "code",
   "execution_count": null,
   "id": "9233c2f8",
   "metadata": {},
   "outputs": [],
   "source": []
  }
 ],
 "metadata": {
  "kernelspec": {
   "display_name": "Python 3 (ipykernel)",
   "language": "python",
   "name": "python3"
  },
  "language_info": {
   "codemirror_mode": {
    "name": "ipython",
    "version": 3
   },
   "file_extension": ".py",
   "mimetype": "text/x-python",
   "name": "python",
   "nbconvert_exporter": "python",
   "pygments_lexer": "ipython3",
   "version": "3.9.12"
  }
 },
 "nbformat": 4,
 "nbformat_minor": 5
}
